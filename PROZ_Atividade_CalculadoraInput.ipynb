{
  "nbformat": 4,
  "nbformat_minor": 0,
  "metadata": {
    "colab": {
      "provenance": [],
      "authorship_tag": "ABX9TyMO8PJh7ANix22YP10ThTjc",
      "include_colab_link": true
    },
    "kernelspec": {
      "name": "python3",
      "display_name": "Python 3"
    },
    "language_info": {
      "name": "python"
    }
  },
  "cells": [
    {
      "cell_type": "markdown",
      "metadata": {
        "id": "view-in-github",
        "colab_type": "text"
      },
      "source": [
        "<a href=\"https://colab.research.google.com/github/1bora/Atividades_PROZ/blob/main/PROZ_Atividade_CalculadoraInput.ipynb\" target=\"_parent\"><img src=\"https://colab.research.google.com/assets/colab-badge.svg\" alt=\"Open In Colab\"/></a>"
      ]
    },
    {
      "cell_type": "code",
      "execution_count": 5,
      "metadata": {
        "id": "LHc_zTa8nkfa"
      },
      "outputs": [],
      "source": [
        "#função definida com parâmetros e tipos de variáveis\n",
        "def calculadora ():\n",
        "  # variável que permite a repetição é definida como boolean\n",
        "  again = True\n",
        "\n",
        "  #loop while verificando se deve repetir ou não (padrão = sim)\n",
        "  while again == True:\n",
        "\n",
        "    #definição de variáveis dentro do loop, pq precisam ser modificadas\n",
        "    n1 = int(input(\"Insira o primeiro número: \"))\n",
        "    n2 = int(input(\"Insira o segundo número: \"))\n",
        "    operacao = str(input(\"Insira a operação desejada: \\n1 -> Soma \\n2 -> Subtração \\n3 -> Multiplicação\\n4 -> Divisão\\n\"))\n",
        "\n",
        "    match operacao:\n",
        "\n",
        "      #Caso 1 ativa soma, faz a operação e printa o resultado e o tipo de dados\n",
        "      case \"1\":\n",
        "        print(\"Operação: Soma (+)\")\n",
        "        result = n1 + n2\n",
        "        print(\"Resultado = \" + str(result), type(result))\n",
        "        print('\\n')\n",
        "\n",
        "      #Caso 2 ativa subtração, faz a operação e printa o resultado e o tipo de dados\n",
        "      case \"2\":\n",
        "        print(\"Operação: Subtração (-)\")\n",
        "        result = n1 - n2\n",
        "        print(\"Resultado = \" + str(result), type(result))\n",
        "        print('\\n')\n",
        "\n",
        "      #Caso 3 ativa multiplicação, faz a operação e printa o resultado e o tipo de dados\n",
        "      case \"3\":\n",
        "        print(\"Operação: Multiplicação (*)\")\n",
        "\n",
        "        result = n1 * n2\n",
        "        print(\"Resultado = \" + str(result), type(result))\n",
        "        print('\\n')\n",
        "\n",
        "      #Caso 3 ativa divisão, faz a operação e printa o resultado e o tipo de dados\n",
        "      case \"4\":\n",
        "        print(\"Operação: Divisão (/)\")\n",
        "\n",
        "        result = n1 / n2\n",
        "        print(\"Resultado = \" + str(result), type(result))\n",
        "        print('\\n')\n",
        "\n",
        "      #Caso nenhum dos outros casos seja ativado\n",
        "      case _:\n",
        "        print(\"Esta opcão não Existe!\")\n",
        "        print(\"selecione uma operação válida!\")\n",
        "\n",
        "\n",
        "    again = input(\"Deseja realizar outra operação ? (S/n)\").upper()\n",
        "\n",
        "    if again == \"S\":\n",
        "      again = True\n",
        "    else:\n",
        "      again = False\n",
        "      print(\"Fim da execução.\")\n",
        "\n"
      ]
    },
    {
      "cell_type": "code",
      "source": [
        "calculadora()"
      ],
      "metadata": {
        "colab": {
          "base_uri": "https://localhost:8080/"
        },
        "id": "ubUpuim2nrUG",
        "outputId": "7bdc528d-85ce-4199-b8b7-e9875a2dc3a5"
      },
      "execution_count": 6,
      "outputs": [
        {
          "output_type": "stream",
          "name": "stdout",
          "text": [
            "Insira o primeiro número: 54645\n",
            "Insira o segundo número: 13123\n",
            "Insira a operação desejada: \n",
            "1 -> Soma \n",
            "2 -> Subtração \n",
            "3 -> Multiplicação\n",
            "4 -> Divisão\n",
            "2\n",
            "Operação: Subtração (-)\n",
            "Resultado = 41522 <class 'int'>\n",
            "\n",
            "\n",
            "Deseja realizar outra operação ? (S/n)s\n",
            "Insira o primeiro número: 654654\n",
            "Insira o segundo número: 132\n",
            "Insira a operação desejada: \n",
            "1 -> Soma \n",
            "2 -> Subtração \n",
            "3 -> Multiplicação\n",
            "4 -> Divisão\n",
            "4\n",
            "Operação: Divisão (/)\n",
            "Resultado = 4959.5 <class 'float'>\n",
            "\n",
            "\n",
            "Deseja realizar outra operação ? (S/n)n\n",
            "Fim da execução.\n"
          ]
        }
      ]
    },
    {
      "cell_type": "code",
      "source": [],
      "metadata": {
        "id": "bCL-SlLqow9P"
      },
      "execution_count": null,
      "outputs": []
    }
  ]
}