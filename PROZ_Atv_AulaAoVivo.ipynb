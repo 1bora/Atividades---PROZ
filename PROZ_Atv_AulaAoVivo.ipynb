{
  "nbformat": 4,
  "nbformat_minor": 0,
  "metadata": {
    "colab": {
      "provenance": [],
      "authorship_tag": "ABX9TyO3LpIS4s+VdFWXjxOZrARD",
      "include_colab_link": true
    },
    "kernelspec": {
      "name": "python3",
      "display_name": "Python 3"
    },
    "language_info": {
      "name": "python"
    }
  },
  "cells": [
    {
      "cell_type": "markdown",
      "metadata": {
        "id": "view-in-github",
        "colab_type": "text"
      },
      "source": [
        "<a href=\"https://colab.research.google.com/github/1bora/Atividades_PROZ/blob/main/PROZ_Atv_AulaAoVivo.ipynb\" target=\"_parent\"><img src=\"https://colab.research.google.com/assets/colab-badge.svg\" alt=\"Open In Colab\"/></a>"
      ]
    },
    {
      "cell_type": "code",
      "execution_count": null,
      "metadata": {
        "id": "-OpdEt7R2-AX"
      },
      "outputs": [],
      "source": [
        "#verificador de numeros\n",
        "\n",
        "again = True\n",
        "\n",
        "while again == True:\n",
        "  numero1 = float(input(\"insira o primeiro numero \"))\n",
        "  numero2 = float(input(\"insira o segundo numero \"))\n",
        "\n",
        "  if numero1 > numero2:\n",
        "    print(\"O Numero \"+str(numero1)+\" é > que o número \"+str(numero2))\n",
        "  elif numero2 > numero1:\n",
        "    print(\"O número \"+str(numero2)+\" é > que o número \"+str(numero1))\n",
        "  elif numero1 == numero2:\n",
        "    print(\"Os números são iguais\")\n",
        "  else:\n",
        "    print(\"Os numeros são iguais\")\n",
        "\n",
        "  again = input(\"Deseja comparar outros números ? (S/n)\").upper()\n",
        "\n",
        "  if again == \"S\":\n",
        "    again = True\n",
        "  else:\n",
        "    again = False\n",
        "    print(\"Fim da execução\")"
      ]
    },
    {
      "cell_type": "code",
      "source": [
        "#verificador de notas\n",
        "\n",
        "again = True\n",
        "\n",
        "while again == True:\n",
        "\n",
        "  nota = int(input(\"Insira uma nota - entre 0 e 100 \\n\"))\n",
        "\n",
        "  match nota:\n",
        "    case nota if nota in range(0,60): # range de 0 a 59, o ultimo elemento não entra, os outros seguem a msm logica\n",
        "      print(\"Sua nota é: F\")\n",
        "\n",
        "    case nota if nota in range(60,70):\n",
        "      print(\"Sua nota é : D\")\n",
        "\n",
        "    case nota if nota in range(70,80):\n",
        "      print(\"Sua nota é: C\")\n",
        "\n",
        "    case nota if nota in range(80,90):\n",
        "      print(\"Sua nota é: B\")\n",
        "\n",
        "    case nota if nota in range(90,101):\n",
        "      print(\"Sua nota é: A\")\n",
        "\n",
        "    case nota if nota not in range(0,101):\n",
        "      print(\"Nota fora do intervalo.\")\n",
        "\n",
        "    case _:\n",
        "      print(\"Insira uma nota válida\")\n",
        "\n",
        "  again = input(\"deseja inserir outra nota ? (S/n)\").upper()\n",
        "\n",
        "  if again == \"S\":\n",
        "    again = True\n",
        "  else:\n",
        "    again = False\n",
        "    print(\"Fim da execução\")\n",
        ""
      ],
      "metadata": {
        "id": "j00hDiPu3HBW"
      },
      "execution_count": null,
      "outputs": []
    }
  ]
}