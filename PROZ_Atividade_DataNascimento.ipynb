{
  "nbformat": 4,
  "nbformat_minor": 0,
  "metadata": {
    "colab": {
      "provenance": [],
      "authorship_tag": "ABX9TyMYyZjMx0rt7siIl17qNeEo",
      "include_colab_link": true
    },
    "kernelspec": {
      "name": "python3",
      "display_name": "Python 3"
    },
    "language_info": {
      "name": "python"
    }
  },
  "cells": [
    {
      "cell_type": "markdown",
      "metadata": {
        "id": "view-in-github",
        "colab_type": "text"
      },
      "source": [
        "<a href=\"https://colab.research.google.com/github/1bora/Atividades_PROZ/blob/main/PROZ_Atividade_DataNascimento.ipynb\" target=\"_parent\"><img src=\"https://colab.research.google.com/assets/colab-badge.svg\" alt=\"Open In Colab\"/></a>"
      ]
    },
    {
      "cell_type": "code",
      "execution_count": null,
      "metadata": {
        "id": "Ski5ozTXLjML"
      },
      "outputs": [],
      "source": [
        "#importaçao de bibliotecas (opcional)\n",
        "import warnings\n",
        "from datetime import date\n",
        "\n",
        "#definição da função sem parametro\n",
        "def get_user():\n",
        "\n",
        "  # definição da variável que validará o while\n",
        "  again = True\n",
        "\n",
        "  # definição do while obtendo input nome\n",
        "  while again == True:\n",
        "    nome = input(\"Digite seu nome: \")\n",
        "\n",
        "    # testa se o input data_nascimento foi escrito em numeros inteiros\n",
        "    try:\n",
        "      data_nascimento = int(input(\"Digite o ano do seu nascimento: (Ex: 1996)\\n\"))\n",
        "\n",
        "    #A exceção lança um warning e retorna ao ponto de input\n",
        "    except:\n",
        "      warnings.warn(\"Datas de nascimento válidas precisam ser números inteiros!\")\n",
        "      continue\n",
        "\n",
        "    #verifica se a data de nascimento NÃO está em um range de 1922 até 2022\n",
        "    if data_nascimento not in range(1922,2022):\n",
        "\n",
        "      #caso nao esteja lança um warning e retorna para o ponto de input\n",
        "      warnings.warn(\"Datas de nascimento válidas vão de 1922 até 2022\")\n",
        "      continue\n",
        "\n",
        "    # verifica se o campo não está vazio\n",
        "    elif data_nascimento == \"\":\n",
        "\n",
        "      # caso esteja lança um warning e volta para o ponto de input\n",
        "       warnings.warn(\"Campo Ano de Nascimento não pode estar vazio!\")\n",
        "       continue\n",
        "\n",
        "\n",
        "    # idade da pessoa em 2022\n",
        "    age_22 = 2022 - data_nascimento\n",
        "\n",
        "    #idade da pessoa hoje pegando o ano da data do sistema operacional\n",
        "    # a função date depende da biblioteca importada no começo\n",
        "    age_today = date.today().year - data_nascimento\n",
        "\n",
        "    #printa a idade da pessoa em 2022\n",
        "    print(\"Olá \"+nome+\"! Você completou \"+str(age_22)+\" anos em 2022!\\n\")\n",
        "\n",
        "\n",
        "    # printa a idade da pessoa em 2024\n",
        "    print(\"Em \"+str(date.today().year)+\" você completará \"+str(age_today)+\" anos!\\n\")\n",
        "\n",
        "\n",
        "    # verifica se irá inserir novo usuário, se não finaliza a execução.\n",
        "    again = input(\"Deseja inserir outro usuário ? (S/n)\").upper()\n",
        "\n",
        "    if again == \"S\":\n",
        "      again = True\n",
        "    else:\n",
        "      again = False\n",
        "      print(\"Fim da execução.\")\n",
        "\n"
      ]
    },
    {
      "cell_type": "code",
      "source": [
        "get_user()"
      ],
      "metadata": {
        "colab": {
          "base_uri": "https://localhost:8080/"
        },
        "id": "Tb-K17VGL2NO",
        "outputId": "b052548b-bba8-4a61-be29-ae3c90e23f1a"
      },
      "execution_count": null,
      "outputs": [
        {
          "name": "stdout",
          "output_type": "stream",
          "text": [
            "Digite seu nome: Athos\n",
            "Digite o ano do seu nascimento: (Ex: 1996)\n",
            "1921\n"
          ]
        },
        {
          "output_type": "stream",
          "name": "stderr",
          "text": [
            "<ipython-input-1-b545808cbe81>:14: UserWarning: Datas de nascimento válidas vão de 1922 até 2022\n",
            "  warnings.warn(\"Datas de nascimento válidas vão de 1922 até 2022\")\n"
          ]
        },
        {
          "name": "stdout",
          "output_type": "stream",
          "text": [
            "Digite seu nome: Athos\n",
            "Digite o ano do seu nascimento: (Ex: 1996)\n",
            "1996\n",
            "Olá Athos! Você completou 26 anos em 2022!\n",
            "\n",
            "Em 2024 você completará 28 anos!\n",
            "\n",
            "Deseja inserir outro usuário ? (S/n)s\n",
            "Digite seu nome: Athos\n",
            "Digite o ano do seu nascimento: (Ex: 1996)\n",
            "asd\n"
          ]
        },
        {
          "output_type": "stream",
          "name": "stderr",
          "text": [
            "<ipython-input-1-b545808cbe81>:11: UserWarning: Datas de nascimento válidas precisam ser números inteiros!\n",
            "  warnings.warn(\"Datas de nascimento válidas precisam ser números inteiros!\")\n"
          ]
        },
        {
          "output_type": "stream",
          "name": "stdout",
          "text": [
            "Digite seu nome: Athos\n",
            "Digite o ano do seu nascimento: (Ex: 1996)\n",
            "1996\n",
            "Olá Athos! Você completou 26 anos em 2022!\n",
            "\n",
            "Em 2024 você completará 28 anos!\n",
            "\n",
            "Deseja inserir outro usuário ? (S/n)n\n",
            "Fim da execução.\n"
          ]
        }
      ]
    }
  ]
}