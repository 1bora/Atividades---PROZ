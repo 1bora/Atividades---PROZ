{
  "nbformat": 4,
  "nbformat_minor": 0,
  "metadata": {
    "colab": {
      "provenance": [],
      "authorship_tag": "ABX9TyPiLjBZEyxpB8QF5W7Fz1v+",
      "include_colab_link": true
    },
    "kernelspec": {
      "name": "python3",
      "display_name": "Python 3"
    },
    "language_info": {
      "name": "python"
    }
  },
  "cells": [
    {
      "cell_type": "markdown",
      "metadata": {
        "id": "view-in-github",
        "colab_type": "text"
      },
      "source": [
        "<a href=\"https://colab.research.google.com/github/1bora/Atividades_PROZ/blob/main/PROZ_Atividade_Calculadora.ipynb\" target=\"_parent\"><img src=\"https://colab.research.google.com/assets/colab-badge.svg\" alt=\"Open In Colab\"/></a>"
      ]
    },
    {
      "cell_type": "code",
      "execution_count": 9,
      "metadata": {
        "id": "vhu0PpyodffV"
      },
      "outputs": [],
      "source": [
        "#função definida com parâmetros e tipos de variáveis\n",
        "def calculadora (n1:int,n2:int,operacao:str):\n",
        "\n",
        "  #compara o caso inserido\n",
        "  match operacao:\n",
        "\n",
        "    #Caso 1 ativa soma, faz a operação e retorna o resultado e o tipo de dados\n",
        "    case \"1\":\n",
        "      print(\"Operação: Soma (+)\")\n",
        "      result = n1 + n2\n",
        "      return print(\"Resultado = \" + str(result), type(result))\n",
        "\n",
        "    #Caso 2 ativa subtração, faz a operação e retorna o resultado e o tipo de dados\n",
        "    case \"2\":\n",
        "      print(\"Operação: Subtração (-)\")\n",
        "      result = n1 - n2\n",
        "      return print(\"Resultado = \" + str(result), type(result))\n",
        "\n",
        "    #Caso 3 ativa multiplicação, faz a operação e retorna o resultado e o tipo de dados\n",
        "    case \"3\":\n",
        "      print(\"Operação: Multiplicação (*)\")\n",
        "\n",
        "      result = n1 * n2\n",
        "      return print(\"Resultado = \" + str(result), type(result))\n",
        "\n",
        "    #Caso 3 ativa divisão, faz a operação e retorna o resultado e o tipo de dados\n",
        "    case \"4\":\n",
        "      print(\"Operação: Divisão (/)\")\n",
        "\n",
        "      result = n1 / n2\n",
        "      return print(\"Resultado = \" + str(result), type(result))\n",
        "\n",
        "    #Caso nenhum dos outros casos seja ativado\n",
        "    #retorna 0\n",
        "    case _:\n",
        "      print(\"selecione uma operação válida!\")\n",
        "      print(\"1 -> Soma \\n2 -> Subtração \\n3 -> Multiplicação\\n4 -> Divisão\")\n",
        "\n",
        "      return 0\n",
        "\n",
        "\n"
      ]
    },
    {
      "cell_type": "code",
      "source": [
        "calculadora(51,12,\"4\")"
      ],
      "metadata": {
        "colab": {
          "base_uri": "https://localhost:8080/"
        },
        "id": "Fh7SBuhedo2W",
        "outputId": "5a62a002-da2f-4fd2-cbf2-d05fa5335eca"
      },
      "execution_count": 11,
      "outputs": [
        {
          "output_type": "stream",
          "name": "stdout",
          "text": [
            "Operação: Divisão (/)\n",
            "Resultado = 4.25 <class 'float'>\n"
          ]
        }
      ]
    },
    {
      "cell_type": "code",
      "source": [],
      "metadata": {
        "id": "PnZvY6ovepA-"
      },
      "execution_count": null,
      "outputs": []
    }
  ]
}