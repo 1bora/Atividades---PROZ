{
  "nbformat": 4,
  "nbformat_minor": 0,
  "metadata": {
    "colab": {
      "provenance": [],
      "authorship_tag": "ABX9TyNht36cDIbPf5bSvalSLFtR",
      "include_colab_link": true
    },
    "kernelspec": {
      "name": "python3",
      "display_name": "Python 3"
    },
    "language_info": {
      "name": "python"
    }
  },
  "cells": [
    {
      "cell_type": "markdown",
      "metadata": {
        "id": "view-in-github",
        "colab_type": "text"
      },
      "source": [
        "<a href=\"https://colab.research.google.com/github/1bora/Atividades---PROZ/blob/main/PROZ_Atividade_Loops.ipynb\" target=\"_parent\"><img src=\"https://colab.research.google.com/assets/colab-badge.svg\" alt=\"Open In Colab\"/></a>"
      ]
    },
    {
      "cell_type": "code",
      "execution_count": 1,
      "metadata": {
        "colab": {
          "base_uri": "https://localhost:8080/"
        },
        "id": "EmQyR3_ad2sH",
        "outputId": "d12c50d0-17b0-4397-bda7-01a7b0cd4587"
      },
      "outputs": [
        {
          "output_type": "stream",
          "name": "stdout",
          "text": [
            "Este é o 1° andar\n",
            "Este é o 2° andar\n",
            "Este é o 3° andar\n",
            "Este é o 4° andar\n",
            "Este é o 5° andar\n",
            "Este é o 6° andar\n",
            "Este é o 7° andar\n",
            "Este é o 8° andar\n",
            "Este é o 9° andar\n",
            "Este é o 10° andar\n",
            "Este é o 11° andar\n",
            "Este é o 12° andar\n",
            "Este é o 14° andar\n",
            "Este é o 15° andar\n",
            "Este é o 16° andar\n",
            "Este é o 17° andar\n",
            "Este é o 18° andar\n",
            "Este é o 19° andar\n"
          ]
        }
      ],
      "source": [
        "# Codigo 1 - Loop for\n",
        "\n",
        "#Definição do loop e do range\n",
        "for i in range(1,20,1):\n",
        "\n",
        "  #verificação se o valor é diferente de 13\n",
        "  if (i != 13):\n",
        "\n",
        "    #condição aceita apenas se o valor não for igual a 13\n",
        "    print(\"Este é o \"+ str(i) + \"° andar\")\n",
        "\n",
        "  # se o valor for igual a 13 o loop pula a execução e vai para o próximo\n",
        "  else:\n",
        "    continue\n",
        "#--------------------------------------------------------------------------------\n"
      ]
    },
    {
      "cell_type": "code",
      "source": [
        "# Codigo 2 - Loop while\n",
        "\n",
        "#inicialização do contador\n",
        "counter = 1\n",
        "\n",
        "#enquanto contador for menor ou igual a 20 executa o bloco\n",
        "while counter <= 20:\n",
        "\n",
        "  #verifica se o contador não é igual a 13\n",
        "  if (counter != 13):\n",
        "\n",
        "    #se a condição for aceita printa o valor normal\n",
        "    print(\"Este é o \"+ str(counter) + \"° andar\")\n",
        "\n",
        "  # se a condição não for aceita nada acontece e código continua\n",
        "  else:\n",
        "    pass\n",
        "\n",
        "  #incremento do contador em +1 fora das verificações (o contador sempre será incrementado até atingir o valor definido)\n",
        "  counter+=1\n",
        "\n",
        "#--------------------------------------------------------------------------------\n"
      ],
      "metadata": {
        "colab": {
          "base_uri": "https://localhost:8080/"
        },
        "id": "Kfb6e4LMd_7D",
        "outputId": "35806e90-19ce-4554-9f45-52462b69ec2d"
      },
      "execution_count": 2,
      "outputs": [
        {
          "output_type": "stream",
          "name": "stdout",
          "text": [
            "Este é o 1° andar\n",
            "Este é o 2° andar\n",
            "Este é o 3° andar\n",
            "Este é o 4° andar\n",
            "Este é o 5° andar\n",
            "Este é o 6° andar\n",
            "Este é o 7° andar\n",
            "Este é o 8° andar\n",
            "Este é o 9° andar\n",
            "Este é o 10° andar\n",
            "Este é o 11° andar\n",
            "Este é o 12° andar\n",
            "Este é o 14° andar\n",
            "Este é o 15° andar\n",
            "Este é o 16° andar\n",
            "Este é o 17° andar\n",
            "Este é o 18° andar\n",
            "Este é o 19° andar\n",
            "Este é o 20° andar\n"
          ]
        }
      ]
    },
    {
      "cell_type": "code",
      "source": [
        "\n",
        "# Codigo 3 - Função\n",
        "# como do-while não existe em python eu fiz uma função simples :D\n",
        "\n",
        "\n",
        "#função que imprime os andares definida com 2 parâmetros\n",
        "#loop_type é o tipo de loop escolhido do tipo string, (for ou while)\n",
        "def floor_printer(loop_type:str):\n",
        "\n",
        "  # contador para while\n",
        "  floor_counter = 0\n",
        "\n",
        "  #definição do loop, mesma lógica anterior\n",
        "  if loop_type == \"while\":\n",
        "    print(\"Loop Escolhido -> \"+ loop_type)\n",
        "    while floor_counter <= 20:\n",
        "      if (floor_counter != 13):\n",
        "        print(\"Este é o \"+ str(floor_counter) + \"° andar\")\n",
        "      else:\n",
        "        pass\n",
        "      floor_counter +=1\n",
        "\n",
        "\n",
        "  #definição do loop, mesma lógica anterior\n",
        "  elif loop_type == \"for\":\n",
        "    print(\"Loop Escolhido -> \"+ loop_type)\n",
        "\n",
        "    for i in range (1,20,1):\n",
        "      if (i != 13):\n",
        "        print(\"Este é o \"+ str(i) + \"° andar\")\n",
        "      else:\n",
        "        continue\n",
        "\n",
        "  # caso o usuário digite errado ou digite outras palavras além das que ativam os loops\n",
        "  #sistema emite um erro falando quais os parâmetros são aceitos\n",
        "  else:\n",
        "    print(\"parâmetros de loop aceitos: 'while' ou 'for' \")"
      ],
      "metadata": {
        "id": "zpFvr5MEeBsL"
      },
      "execution_count": 3,
      "outputs": []
    },
    {
      "cell_type": "code",
      "source": [
        "#para executar a função, passe o nome da função com o parâmetro entre parenteses\n",
        "\n",
        "floor_printer(\"for\")"
      ],
      "metadata": {
        "colab": {
          "base_uri": "https://localhost:8080/"
        },
        "id": "0gh6PaOeeZwl",
        "outputId": "ea5a8af5-330a-417a-a0ab-0cc4c42ffeaf"
      },
      "execution_count": 7,
      "outputs": [
        {
          "output_type": "stream",
          "name": "stdout",
          "text": [
            "Loop Escolhido -> for\n",
            "Este é o 1° andar\n",
            "Este é o 2° andar\n",
            "Este é o 3° andar\n",
            "Este é o 4° andar\n",
            "Este é o 5° andar\n",
            "Este é o 6° andar\n",
            "Este é o 7° andar\n",
            "Este é o 8° andar\n",
            "Este é o 9° andar\n",
            "Este é o 10° andar\n",
            "Este é o 11° andar\n",
            "Este é o 12° andar\n",
            "Este é o 14° andar\n",
            "Este é o 15° andar\n",
            "Este é o 16° andar\n",
            "Este é o 17° andar\n",
            "Este é o 18° andar\n",
            "Este é o 19° andar\n"
          ]
        }
      ]
    }
  ]
}